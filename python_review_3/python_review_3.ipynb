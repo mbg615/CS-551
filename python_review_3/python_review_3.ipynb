{
 "cells": [
  {
   "metadata": {
    "ExecuteTime": {
     "end_time": "2025-10-01T15:39:22.944639Z",
     "start_time": "2025-10-01T15:39:22.941629Z"
    }
   },
   "cell_type": "code",
   "source": [
    "# A1\n",
    "main_list = ['hello world', 'of mice and men', 'war and peace', '220', 22, 115, 550, -3, -6, 340, True, True, 2.718, 'east of eden', 'to be or not to be', 3.14]\n",
    "\n",
    "for x in main_list:\n",
    "    if type(x) is str:\n",
    "        print(x.title())\n",
    "    elif type(x) is int:\n",
    "        print(x + 100)\n",
    "    else:\n",
    "        print('something else')"
   ],
   "id": "a3cdb755ae90331b",
   "outputs": [
    {
     "name": "stdout",
     "output_type": "stream",
     "text": [
      "Hello World\n",
      "Of Mice And Men\n",
      "War And Peace\n",
      "220\n",
      "122\n",
      "215\n",
      "650\n",
      "97\n",
      "94\n",
      "440\n",
      "something else\n",
      "something else\n",
      "something else\n",
      "East Of Eden\n",
      "To Be Or Not To Be\n",
      "something else\n"
     ]
    }
   ],
   "execution_count": 57
  },
  {
   "metadata": {
    "ExecuteTime": {
     "end_time": "2025-10-01T15:39:22.948009Z",
     "start_time": "2025-10-01T15:39:22.945774Z"
    }
   },
   "cell_type": "code",
   "source": [
    "# A2\n",
    "main_strings = [x for x in main_list if type(x) is str]\n",
    "for i in range(len(main_strings)):\n",
    "    main_strings[i] = '!' + str(main_strings[i])\n",
    "\n",
    "print(main_strings)"
   ],
   "id": "6d59666dd1d19dd",
   "outputs": [
    {
     "name": "stdout",
     "output_type": "stream",
     "text": [
      "['!hello world', '!of mice and men', '!war and peace', '!220', '!east of eden', '!to be or not to be']\n"
     ]
    }
   ],
   "execution_count": 58
  },
  {
   "metadata": {
    "ExecuteTime": {
     "end_time": "2025-10-01T15:39:22.951489Z",
     "start_time": "2025-10-01T15:39:22.949291Z"
    }
   },
   "cell_type": "code",
   "source": [
    "# B1\n",
    "my_list = ['hello', 'hello world', 'east of eden', 'of mice and men', 250, 100, 121, 'to be or not to be']\n",
    "\n",
    "for i, x in enumerate(my_list):\n",
    "    print(x)"
   ],
   "id": "133dd78b8d92adb1",
   "outputs": [
    {
     "name": "stdout",
     "output_type": "stream",
     "text": [
      "hello\n",
      "hello world\n",
      "east of eden\n",
      "of mice and men\n",
      "250\n",
      "100\n",
      "121\n",
      "to be or not to be\n"
     ]
    }
   ],
   "execution_count": 59
  },
  {
   "metadata": {
    "ExecuteTime": {
     "end_time": "2025-10-01T15:39:22.954507Z",
     "start_time": "2025-10-01T15:39:22.952349Z"
    }
   },
   "cell_type": "code",
   "source": [
    "# B2\n",
    "for i, x in enumerate(my_list):\n",
    "    if type(x) is int:\n",
    "        print(x)"
   ],
   "id": "3aa0cbf5d3dca675",
   "outputs": [
    {
     "name": "stdout",
     "output_type": "stream",
     "text": [
      "250\n",
      "100\n",
      "121\n"
     ]
    }
   ],
   "execution_count": 60
  },
  {
   "metadata": {
    "ExecuteTime": {
     "end_time": "2025-10-01T15:39:22.958365Z",
     "start_time": "2025-10-01T15:39:22.956160Z"
    }
   },
   "cell_type": "code",
   "source": [
    "# C1\n",
    "my_list = [250 ,  121,  'this is me' ,  -500, -1000, 150, 300, -350,  0, 'hello world', 3.14]\n",
    "\n",
    "my_list2 = [999 if type(x) is str else x for x in my_list]\n",
    "print(my_list2)"
   ],
   "id": "4bc54e81fd0db9dc",
   "outputs": [
    {
     "name": "stdout",
     "output_type": "stream",
     "text": [
      "[250, 121, 999, -500, -1000, 150, 300, -350, 0, 999, 3.14]\n"
     ]
    }
   ],
   "execution_count": 61
  },
  {
   "metadata": {
    "ExecuteTime": {
     "end_time": "2025-10-01T15:39:22.961140Z",
     "start_time": "2025-10-01T15:39:22.959195Z"
    }
   },
   "cell_type": "code",
   "source": [
    "# C2\n",
    "my_list2 = [x + 100 for x in my_list2]\n",
    "print(my_list2)"
   ],
   "id": "d656ae79e4708b91",
   "outputs": [
    {
     "name": "stdout",
     "output_type": "stream",
     "text": [
      "[350, 221, 1099, -400, -900, 250, 400, -250, 100, 1099, 103.14]\n"
     ]
    }
   ],
   "execution_count": 62
  }
 ],
 "metadata": {
  "kernelspec": {
   "display_name": "Python 3",
   "language": "python",
   "name": "python3"
  },
  "language_info": {
   "codemirror_mode": {
    "name": "ipython",
    "version": 2
   },
   "file_extension": ".py",
   "mimetype": "text/x-python",
   "name": "python",
   "nbconvert_exporter": "python",
   "pygments_lexer": "ipython2",
   "version": "2.7.6"
  }
 },
 "nbformat": 4,
 "nbformat_minor": 5
}
