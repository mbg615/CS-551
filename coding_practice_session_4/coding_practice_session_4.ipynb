{
 "cells": [
  {
   "cell_type": "code",
   "id": "initial_id",
   "metadata": {
    "collapsed": true,
    "ExecuteTime": {
     "end_time": "2025-09-26T18:51:12.461905Z",
     "start_time": "2025-09-26T18:51:12.450974Z"
    }
   },
   "source": [
    "# CS 451/551\n",
    "# Coding Practice Session 4\n",
    "# Last name: Guthrie\n",
    "# Email: mbguthrie1@crimson.ua.edu\n",
    "# Q1\n",
    "from sklearn.datasets import load_iris\n",
    "import pandas as pd\n",
    "from sklearn.feature_selection import SelectKBest, chi2\n",
    "from sklearn.preprocessing import MinMaxScaler\n",
    "\n",
    "iris = load_iris()\n",
    "X = iris.data\n",
    "y = iris.target\n",
    "features = iris.feature_names\n",
    "\n",
    "scaler = MinMaxScaler()\n",
    "X_scaled = scaler.fit_transform(X)\n",
    "\n",
    "chi2_selector = SelectKBest(score_func=chi2, k='all')\n",
    "chi2_selector.fit(X_scaled, y)\n",
    "\n",
    "chi2_scores = chi2_selector.scores_\n",
    "\n",
    "scores_df = pd.DataFrame({'Feature': features, 'Chi2_Score': chi2_scores})\n",
    "scores_df = scores_df.sort_values(by='Chi2_Score', ascending=False)\n",
    "scores_df"
   ],
   "execution_count": 68,
   "outputs": []
  },
  {
   "metadata": {
    "ExecuteTime": {
     "end_time": "2025-09-26T18:51:12.472829Z",
     "start_time": "2025-09-26T18:51:12.462972Z"
    }
   },
   "cell_type": "code",
   "source": [
    "# Q2\n",
    "from sklearn.feature_selection import mutual_info_classif\n",
    "\n",
    "mi_scores = mutual_info_classif(X, y)\n",
    "scores_df = pd.DataFrame({'Feature': features, 'Mutual_Information_Score': mi_scores})\n",
    "scores_df.sort_values(by='Mutual_Information_Score', ascending=False)\n",
    "scores_df"
   ],
   "id": "9eb9737da6bd6ed3",
   "execution_count": 69,
   "outputs": []
  },
  {
   "metadata": {
    "ExecuteTime": {
     "end_time": "2025-09-26T18:51:12.626371Z",
     "start_time": "2025-09-26T18:51:12.473492Z"
    }
   },
   "cell_type": "code",
   "source": [
    "# Q3\n",
    "from sklearn.neighbors import KNeighborsClassifier\n",
    "from sklearn.feature_selection import SequentialFeatureSelector\n",
    "import numpy as np\n",
    "from sklearn.model_selection import cross_val_score\n",
    "\n",
    "knn = KNeighborsClassifier(n_neighbors=3)\n",
    "\n",
    "accuracies = []\n",
    "feature_subsets = []\n",
    "\n",
    "for k in range(1, X.shape[1]):\n",
    "    sfs = SequentialFeatureSelector(knn, n_features_to_select=k, direction=\"forward\", cv=5)\n",
    "    sfs.fit(X, y)\n",
    "    selected = np.array(features)[sfs.get_support()].tolist()\n",
    "    acc = np.mean(cross_val_score(knn, sfs.transform(X), y, cv=5))\n",
    "    feature_subsets.append(selected)\n",
    "    accuracies.append(acc)\n",
    "    print(f\"{k} features: {selected} -> accuracy = {acc:.3f}\")\n",
    "\n",
    "acc_full = np.mean(cross_val_score(knn, X, y, cv=5))\n",
    "print(f\"4 features: {features} -> accuracy = {acc_full:.3f}\")"
   ],
   "id": "a486464cb9392170",
   "execution_count": 70,
   "outputs": []
  },
  {
   "metadata": {
    "ExecuteTime": {
     "end_time": "2025-09-26T18:51:13.051634Z",
     "start_time": "2025-09-26T18:51:12.627837Z"
    }
   },
   "cell_type": "code",
   "source": [
    "# Q4\n",
    "from sklearn.ensemble import RandomForestClassifier\n",
    "from matplotlib import pyplot as plt\n",
    "\n",
    "clf = RandomForestClassifier(max_depth=2, random_state=0)\n",
    "clf.fit(X, y)\n",
    "\n",
    "feature_importance = clf.feature_importances_\n",
    "\n",
    "plt.bar(features, feature_importance)\n",
    "plt.xlabel(\"Features\")\n",
    "plt.ylabel(\"Importance Score\")\n",
    "plt.title(\"Random Forest Feature Importance (Iris)\")\n",
    "plt.show()\n",
    "\n",
    "acc = np.mean(cross_val_score(clf, X, y, cv=5))\n",
    "print(\"Cross-validated accuracy:\", round(acc, 3))\n",
    "\n",
    "for feat, imp in zip(features, feature_importance):\n",
    "    print(f\"{feat}: importance = {imp:.3f}\")\n"
   ],
   "id": "28376c6bf551c392",
   "execution_count": 71,
   "outputs": []
  },
  {
   "metadata": {
    "ExecuteTime": {
     "end_time": "2025-09-26T18:51:13.138043Z",
     "start_time": "2025-09-26T18:51:13.052443Z"
    }
   },
   "cell_type": "code",
   "source": [
    "# Q5\n",
    "from sklearn.decomposition import PCA\n",
    "\n",
    "pca = PCA(n_components=2)\n",
    "X_pca = pca.fit_transform(X)\n",
    "\n",
    "for i, target in enumerate(set(y)):\n",
    "    plt.scatter(X_pca[y == i, 0], X_pca[y == i, 1], label=features[i])\n",
    "plt.xlabel(\"PC1\")\n",
    "plt.ylabel(\"PC2\")\n",
    "plt.title(\"PCA on Iris Dataset\")\n",
    "plt.legend()\n",
    "plt.show()\n",
    "\n",
    "explained_var = pca.explained_variance_ratio_\n",
    "print(\"Explained variance by PC1 and PC2:\", explained_var)\n",
    "print(\"Total variance explained by first 2 components:\", explained_var.sum())"
   ],
   "id": "74e0f1a61720d5ee",
   "execution_count": 72,
   "outputs": []
  },
  {
   "metadata": {
    "ExecuteTime": {
     "end_time": "2025-09-26T18:51:13.299975Z",
     "start_time": "2025-09-26T18:51:13.138754Z"
    }
   },
   "cell_type": "code",
   "source": [
    "# Q6\n",
    "from sklearn.discriminant_analysis import LinearDiscriminantAnalysis as LDA\n",
    "\n",
    "lda = LDA(n_components=2)\n",
    "X_lda = lda.fit_transform(X, y)\n",
    "\n",
    "plt.subplot(2,1,1)\n",
    "for i, target in enumerate(set(y)):\n",
    "    plt.scatter(X_pca[y == i, 0], X_pca[y == i, 1], label=features[i])\n",
    "plt.xlabel(\"PC1\")\n",
    "plt.ylabel(\"PC2\")\n",
    "plt.title(\"PCA\")\n",
    "plt.legend()\n",
    "plt.show()\n",
    "\n",
    "\n",
    "plt.subplot(2,1,2)\n",
    "for i, target in enumerate(set(y)):\n",
    "    plt.scatter(X_lda[y == i, 0], X_lda[y == i, 1], label=features[i])\n",
    "plt.xlabel(\"LD1\")\n",
    "plt.ylabel(\"LD2\")\n",
    "plt.title(\"LDA\")\n",
    "plt.legend()\n",
    "plt.show()\n"
   ],
   "id": "8b0d91de6bd6e075",
   "execution_count": 73,
   "outputs": []
  },
  {
   "metadata": {
    "ExecuteTime": {
     "end_time": "2025-09-26T18:51:13.449412Z",
     "start_time": "2025-09-26T18:51:13.300724Z"
    }
   },
   "cell_type": "code",
   "source": [
    "# Q7\n",
    "from sklearn.tree import DecisionTreeClassifier, plot_tree\n",
    "\n",
    "tree = DecisionTreeClassifier(random_state=0)\n",
    "tree.fit(X, y)\n",
    "\n",
    "for feat, imp in zip(features, tree.feature_importances_):\n",
    "    print(f\"{feat}: importance = {imp:.3f}\")\n",
    "    \n",
    "plot_tree(tree, feature_names=features, class_names=iris.target_names, filled=True)\n",
    "plt.show()"
   ],
   "id": "a8ad304b890ee8c4",
   "execution_count": 74,
   "outputs": []
  },
  {
   "metadata": {
    "ExecuteTime": {
     "end_time": "2025-09-26T18:51:13.455653Z",
     "start_time": "2025-09-26T18:51:13.450469Z"
    }
   },
   "cell_type": "code",
   "source": [
    "# Q8\n",
    "\n",
    "df = pd.DataFrame(X, columns=features)\n",
    "df['target'] = y\n",
    "\n",
    "corr_with_target = df.corr()['target'].drop('target')\n",
    "feature_corr = df[features].corr().abs()\n",
    "\n",
    "cfs_scores = {}\n",
    "for i, f in enumerate(features):\n",
    "    relevance = abs(corr_with_target[f])\n",
    "    redundancy = feature_corr[f].drop(f).mean()\n",
    "    cfs_scores[f] = relevance / (redundancy + 1e-6)\n",
    "    \n",
    "cfs_ranked = sorted(cfs_scores.items(), key=lambda x: x[1], reverse=True)\n",
    "\n",
    "print(\"Feature ranking (CFS):\")\n",
    "for feat, score in cfs_ranked:\n",
    "    print(f\"{feat}: CFS score = {score:.3f}\")"
   ],
   "id": "8a3b0f45666427b3",
   "execution_count": 75,
   "outputs": []
  },
  {
   "metadata": {
    "ExecuteTime": {
     "end_time": "2025-09-26T18:51:13.542996Z",
     "start_time": "2025-09-26T18:51:13.456510Z"
    }
   },
   "cell_type": "code",
   "source": [
    "# Q9\n",
    "from sklearn.linear_model import LogisticRegression\n",
    "\n",
    "clf = LogisticRegression(penalty='l1', solver='saga', max_iter=5000, C=1.0)\n",
    "clf.fit(X, y)\n",
    "\n",
    "coef = np.abs(clf.coef_).sum(axis=0)\n",
    "feature_ranking = sorted(zip(features, coef), key=lambda x: x[1], reverse=True)\n",
    "\n",
    "print(\"Feature ranking based on Lasso (L1) Logistic Regression:\")\n",
    "for feat, val in feature_ranking:\n",
    "    print(f\"{feat}: coefficient magnitude = {val:.3f}\")"
   ],
   "id": "980b325b2d78f3b2",
   "execution_count": 76,
   "outputs": []
  }
 ],
 "metadata": {
  "kernelspec": {
   "display_name": "Python 3",
   "language": "python",
   "name": "python3"
  },
  "language_info": {
   "codemirror_mode": {
    "name": "ipython",
    "version": 2
   },
   "file_extension": ".py",
   "mimetype": "text/x-python",
   "name": "python",
   "nbconvert_exporter": "python",
   "pygments_lexer": "ipython2",
   "version": "2.7.6"
  }
 },
 "nbformat": 4,
 "nbformat_minor": 5
}
