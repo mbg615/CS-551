{
 "cells": [
  {
   "cell_type": "code",
   "id": "initial_id",
   "metadata": {
    "collapsed": true,
    "ExecuteTime": {
     "end_time": "2025-09-05T22:05:45.473525Z",
     "start_time": "2025-09-05T22:05:45.463951Z"
    }
   },
   "source": [
    "# CS 451/551\n",
    "# Coding Practice Session 1\n",
    "# Last name: Guthrie\n",
    "# Email: mbguthrie1@crimson.ua.edu\n",
    "# Q1\n",
    "\n",
    "import pandas as pd\n",
    "\n",
    "data = {\n",
    "    'Movies': ['The Minecraft Movie', 'KPop Demon Hunter', 'The Princess Bride', 'Haunted Mansion', 'The Lego Movie'], \n",
    "    'Likes': ['It was fun and lived up to the hype.', 'The music was fantastic.', 'The jokes and quips were hilarious.', 'It was much funnier and not scary like the original.', 'I liked the action and fun that comes from using legos.'], \n",
    "    'Dislikes': ['It didn\\'t follow the game.' , 'I didn\\'t like some of the animation styles, especially in some of the mushy scenes (Popcorn eyes).', 'Nothing, I think the entire movie is great.', 'I don\\'t agree with the direction of some parts.', 'Some of the jokes were cheezy.'], \n",
    "}\n",
    "\n",
    "df = pd.DataFrame(data)\n",
    "df"
   ],
   "outputs": [
    {
     "data": {
      "text/plain": [
       "                Movies                                              Likes  \\\n",
       "0  The Minecraft Movie               It was fun and lived up to the hype.   \n",
       "1    KPop Demon Hunter                           The music was fantastic.   \n",
       "2   The Princess Bride                The jokes and quips were hilarious.   \n",
       "3      Haunted Mansion  It was much funnier and not scary like the ori...   \n",
       "4       The Lego Movie  I liked the action and fun that comes from usi...   \n",
       "\n",
       "                                            Dislikes  \n",
       "0                         It didn't follow the game.  \n",
       "1  I didn't like some of the animation styles, es...  \n",
       "2        Nothing, I think the entire movie is great.  \n",
       "3    I don't agree with the direction of some parts.  \n",
       "4                     Some of the jokes were cheezy.  "
      ],
      "text/html": [
       "<div>\n",
       "<style scoped>\n",
       "    .dataframe tbody tr th:only-of-type {\n",
       "        vertical-align: middle;\n",
       "    }\n",
       "\n",
       "    .dataframe tbody tr th {\n",
       "        vertical-align: top;\n",
       "    }\n",
       "\n",
       "    .dataframe thead th {\n",
       "        text-align: right;\n",
       "    }\n",
       "</style>\n",
       "<table border=\"1\" class=\"dataframe\">\n",
       "  <thead>\n",
       "    <tr style=\"text-align: right;\">\n",
       "      <th></th>\n",
       "      <th>Movies</th>\n",
       "      <th>Likes</th>\n",
       "      <th>Dislikes</th>\n",
       "    </tr>\n",
       "  </thead>\n",
       "  <tbody>\n",
       "    <tr>\n",
       "      <th>0</th>\n",
       "      <td>The Minecraft Movie</td>\n",
       "      <td>It was fun and lived up to the hype.</td>\n",
       "      <td>It didn't follow the game.</td>\n",
       "    </tr>\n",
       "    <tr>\n",
       "      <th>1</th>\n",
       "      <td>KPop Demon Hunter</td>\n",
       "      <td>The music was fantastic.</td>\n",
       "      <td>I didn't like some of the animation styles, es...</td>\n",
       "    </tr>\n",
       "    <tr>\n",
       "      <th>2</th>\n",
       "      <td>The Princess Bride</td>\n",
       "      <td>The jokes and quips were hilarious.</td>\n",
       "      <td>Nothing, I think the entire movie is great.</td>\n",
       "    </tr>\n",
       "    <tr>\n",
       "      <th>3</th>\n",
       "      <td>Haunted Mansion</td>\n",
       "      <td>It was much funnier and not scary like the ori...</td>\n",
       "      <td>I don't agree with the direction of some parts.</td>\n",
       "    </tr>\n",
       "    <tr>\n",
       "      <th>4</th>\n",
       "      <td>The Lego Movie</td>\n",
       "      <td>I liked the action and fun that comes from usi...</td>\n",
       "      <td>Some of the jokes were cheezy.</td>\n",
       "    </tr>\n",
       "  </tbody>\n",
       "</table>\n",
       "</div>"
      ]
     },
     "execution_count": 66,
     "metadata": {},
     "output_type": "execute_result"
    }
   ],
   "execution_count": 66
  },
  {
   "metadata": {},
   "cell_type": "markdown",
   "source": "",
   "id": "fe0158d272e8e917"
  },
  {
   "metadata": {
    "ExecuteTime": {
     "end_time": "2025-09-05T22:05:45.484575Z",
     "start_time": "2025-09-05T22:05:45.475324Z"
    }
   },
   "cell_type": "code",
   "source": [
    "# Q2\n",
    "df['Movies'] = df['Movies'].str.replace(' ', '')\n",
    "df['Likes'] = df['Likes'].str.replace('.', '').str.replace(',', '')\n",
    "df['Dislikes'] = df['Dislikes'].str.replace('.', '').str.replace(',', '')\n",
    "df"
   ],
   "id": "ea4e5d22bba86e9b",
   "outputs": [
    {
     "data": {
      "text/plain": [
       "              Movies                                              Likes  \\\n",
       "0  TheMinecraftMovie                It was fun and lived up to the hype   \n",
       "1    KPopDemonHunter                            The music was fantastic   \n",
       "2   ThePrincessBride                 The jokes and quips were hilarious   \n",
       "3     HauntedMansion  It was much funnier and not scary like the ori...   \n",
       "4       TheLegoMovie  I liked the action and fun that comes from usi...   \n",
       "\n",
       "                                            Dislikes  \n",
       "0                          It didn't follow the game  \n",
       "1  I didn't like some of the animation styles esp...  \n",
       "2          Nothing I think the entire movie is great  \n",
       "3     I don't agree with the direction of some parts  \n",
       "4                      Some of the jokes were cheezy  "
      ],
      "text/html": [
       "<div>\n",
       "<style scoped>\n",
       "    .dataframe tbody tr th:only-of-type {\n",
       "        vertical-align: middle;\n",
       "    }\n",
       "\n",
       "    .dataframe tbody tr th {\n",
       "        vertical-align: top;\n",
       "    }\n",
       "\n",
       "    .dataframe thead th {\n",
       "        text-align: right;\n",
       "    }\n",
       "</style>\n",
       "<table border=\"1\" class=\"dataframe\">\n",
       "  <thead>\n",
       "    <tr style=\"text-align: right;\">\n",
       "      <th></th>\n",
       "      <th>Movies</th>\n",
       "      <th>Likes</th>\n",
       "      <th>Dislikes</th>\n",
       "    </tr>\n",
       "  </thead>\n",
       "  <tbody>\n",
       "    <tr>\n",
       "      <th>0</th>\n",
       "      <td>TheMinecraftMovie</td>\n",
       "      <td>It was fun and lived up to the hype</td>\n",
       "      <td>It didn't follow the game</td>\n",
       "    </tr>\n",
       "    <tr>\n",
       "      <th>1</th>\n",
       "      <td>KPopDemonHunter</td>\n",
       "      <td>The music was fantastic</td>\n",
       "      <td>I didn't like some of the animation styles esp...</td>\n",
       "    </tr>\n",
       "    <tr>\n",
       "      <th>2</th>\n",
       "      <td>ThePrincessBride</td>\n",
       "      <td>The jokes and quips were hilarious</td>\n",
       "      <td>Nothing I think the entire movie is great</td>\n",
       "    </tr>\n",
       "    <tr>\n",
       "      <th>3</th>\n",
       "      <td>HauntedMansion</td>\n",
       "      <td>It was much funnier and not scary like the ori...</td>\n",
       "      <td>I don't agree with the direction of some parts</td>\n",
       "    </tr>\n",
       "    <tr>\n",
       "      <th>4</th>\n",
       "      <td>TheLegoMovie</td>\n",
       "      <td>I liked the action and fun that comes from usi...</td>\n",
       "      <td>Some of the jokes were cheezy</td>\n",
       "    </tr>\n",
       "  </tbody>\n",
       "</table>\n",
       "</div>"
      ]
     },
     "execution_count": 67,
     "metadata": {},
     "output_type": "execute_result"
    }
   ],
   "execution_count": 67
  },
  {
   "metadata": {
    "ExecuteTime": {
     "end_time": "2025-09-05T22:05:45.493956Z",
     "start_time": "2025-09-05T22:05:45.486182Z"
    }
   },
   "cell_type": "code",
   "source": [
    "# Q3\n",
    "df['Unique_Words_Count'] = df.apply(lambda x: len(set(str(x['Likes']).lower().split() + str(x['Dislikes']).lower().split())), axis=1)\n",
    "df"
   ],
   "id": "1f6af8afc3500df3",
   "outputs": [
    {
     "data": {
      "text/plain": [
       "              Movies                                              Likes  \\\n",
       "0  TheMinecraftMovie                It was fun and lived up to the hype   \n",
       "1    KPopDemonHunter                            The music was fantastic   \n",
       "2   ThePrincessBride                 The jokes and quips were hilarious   \n",
       "3     HauntedMansion  It was much funnier and not scary like the ori...   \n",
       "4       TheLegoMovie  I liked the action and fun that comes from usi...   \n",
       "\n",
       "                                            Dislikes  Unique_Words_Count  \n",
       "0                          It didn't follow the game                  12  \n",
       "1  I didn't like some of the animation styles esp...                  17  \n",
       "2          Nothing I think the entire movie is great                  13  \n",
       "3     I don't agree with the direction of some parts                  18  \n",
       "4                      Some of the jokes were cheezy                  16  "
      ],
      "text/html": [
       "<div>\n",
       "<style scoped>\n",
       "    .dataframe tbody tr th:only-of-type {\n",
       "        vertical-align: middle;\n",
       "    }\n",
       "\n",
       "    .dataframe tbody tr th {\n",
       "        vertical-align: top;\n",
       "    }\n",
       "\n",
       "    .dataframe thead th {\n",
       "        text-align: right;\n",
       "    }\n",
       "</style>\n",
       "<table border=\"1\" class=\"dataframe\">\n",
       "  <thead>\n",
       "    <tr style=\"text-align: right;\">\n",
       "      <th></th>\n",
       "      <th>Movies</th>\n",
       "      <th>Likes</th>\n",
       "      <th>Dislikes</th>\n",
       "      <th>Unique_Words_Count</th>\n",
       "    </tr>\n",
       "  </thead>\n",
       "  <tbody>\n",
       "    <tr>\n",
       "      <th>0</th>\n",
       "      <td>TheMinecraftMovie</td>\n",
       "      <td>It was fun and lived up to the hype</td>\n",
       "      <td>It didn't follow the game</td>\n",
       "      <td>12</td>\n",
       "    </tr>\n",
       "    <tr>\n",
       "      <th>1</th>\n",
       "      <td>KPopDemonHunter</td>\n",
       "      <td>The music was fantastic</td>\n",
       "      <td>I didn't like some of the animation styles esp...</td>\n",
       "      <td>17</td>\n",
       "    </tr>\n",
       "    <tr>\n",
       "      <th>2</th>\n",
       "      <td>ThePrincessBride</td>\n",
       "      <td>The jokes and quips were hilarious</td>\n",
       "      <td>Nothing I think the entire movie is great</td>\n",
       "      <td>13</td>\n",
       "    </tr>\n",
       "    <tr>\n",
       "      <th>3</th>\n",
       "      <td>HauntedMansion</td>\n",
       "      <td>It was much funnier and not scary like the ori...</td>\n",
       "      <td>I don't agree with the direction of some parts</td>\n",
       "      <td>18</td>\n",
       "    </tr>\n",
       "    <tr>\n",
       "      <th>4</th>\n",
       "      <td>TheLegoMovie</td>\n",
       "      <td>I liked the action and fun that comes from usi...</td>\n",
       "      <td>Some of the jokes were cheezy</td>\n",
       "      <td>16</td>\n",
       "    </tr>\n",
       "  </tbody>\n",
       "</table>\n",
       "</div>"
      ]
     },
     "execution_count": 68,
     "metadata": {},
     "output_type": "execute_result"
    }
   ],
   "execution_count": 68
  },
  {
   "metadata": {
    "ExecuteTime": {
     "end_time": "2025-09-05T22:05:45.563968Z",
     "start_time": "2025-09-05T22:05:45.495462Z"
    }
   },
   "cell_type": "code",
   "source": [
    "# Q4\n",
    "import matplotlib.pyplot as plt\n",
    "df['Total_Word_Count'] = df.apply(lambda row: len(str(row['Likes']).split()) + len(str(row['Dislikes']).split()), axis=1)\n",
    "\n",
    "plt.bar(df['Movies'], df['Total_Word_Count'])\n",
    "plt.xlabel('Movies')\n",
    "plt.ylabel('Total Word Count')\n",
    "plt.xticks(rotation=10)\n",
    "plt.show()"
   ],
   "id": "ff2f7eafc5a4754d",
   "outputs": [
    {
     "data": {
      "text/plain": [
       "<Figure size 640x480 with 1 Axes>"
      ],
      "image/png": "[encoded data removed]"
     },
     "metadata": {},
     "output_type": "display_data"
    }
   ],
   "execution_count": 69
  },
  {
   "metadata": {
    "ExecuteTime": {
     "end_time": "2025-09-05T22:05:45.574198Z",
     "start_time": "2025-09-05T22:05:45.565026Z"
    }
   },
   "cell_type": "code",
   "source": [
    "# Q5\n",
    "from sklearn.datasets import load_iris\n",
    "\n",
    "iris = load_iris()\n",
    "df_iris = pd.DataFrame(iris.data, columns=iris.feature_names)\n",
    "\n",
    "df_iris"
   ],
   "id": "6fe35f25b0b6cde2",
   "outputs": [
    {
     "data": {
      "text/plain": [
       "     sepal length (cm)  sepal width (cm)  petal length (cm)  petal width (cm)\n",
       "0                  5.1               3.5                1.4               0.2\n",
       "1                  4.9               3.0                1.4               0.2\n",
       "2                  4.7               3.2                1.3               0.2\n",
       "3                  4.6               3.1                1.5               0.2\n",
       "4                  5.0               3.6                1.4               0.2\n",
       "..                 ...               ...                ...               ...\n",
       "145                6.7               3.0                5.2               2.3\n",
       "146                6.3               2.5                5.0               1.9\n",
       "147                6.5               3.0                5.2               2.0\n",
       "148                6.2               3.4                5.4               2.3\n",
       "149                5.9               3.0                5.1               1.8\n",
       "\n",
       "[150 rows x 4 columns]"
      ],
      "text/html": [
       "<div>\n",
       "<style scoped>\n",
       "    .dataframe tbody tr th:only-of-type {\n",
       "        vertical-align: middle;\n",
       "    }\n",
       "\n",
       "    .dataframe tbody tr th {\n",
       "        vertical-align: top;\n",
       "    }\n",
       "\n",
       "    .dataframe thead th {\n",
       "        text-align: right;\n",
       "    }\n",
       "</style>\n",
       "<table border=\"1\" class=\"dataframe\">\n",
       "  <thead>\n",
       "    <tr style=\"text-align: right;\">\n",
       "      <th></th>\n",
       "      <th>sepal length (cm)</th>\n",
       "      <th>sepal width (cm)</th>\n",
       "      <th>petal length (cm)</th>\n",
       "      <th>petal width (cm)</th>\n",
       "    </tr>\n",
       "  </thead>\n",
       "  <tbody>\n",
       "    <tr>\n",
       "      <th>0</th>\n",
       "      <td>5.1</td>\n",
       "      <td>3.5</td>\n",
       "      <td>1.4</td>\n",
       "      <td>0.2</td>\n",
       "    </tr>\n",
       "    <tr>\n",
       "      <th>1</th>\n",
       "      <td>4.9</td>\n",
       "      <td>3.0</td>\n",
       "      <td>1.4</td>\n",
       "      <td>0.2</td>\n",
       "    </tr>\n",
       "    <tr>\n",
       "      <th>2</th>\n",
       "      <td>4.7</td>\n",
       "      <td>3.2</td>\n",
       "      <td>1.3</td>\n",
       "      <td>0.2</td>\n",
       "    </tr>\n",
       "    <tr>\n",
       "      <th>3</th>\n",
       "      <td>4.6</td>\n",
       "      <td>3.1</td>\n",
       "      <td>1.5</td>\n",
       "      <td>0.2</td>\n",
       "    </tr>\n",
       "    <tr>\n",
       "      <th>4</th>\n",
       "      <td>5.0</td>\n",
       "      <td>3.6</td>\n",
       "      <td>1.4</td>\n",
       "      <td>0.2</td>\n",
       "    </tr>\n",
       "    <tr>\n",
       "      <th>...</th>\n",
       "      <td>...</td>\n",
       "      <td>...</td>\n",
       "      <td>...</td>\n",
       "      <td>...</td>\n",
       "    </tr>\n",
       "    <tr>\n",
       "      <th>145</th>\n",
       "      <td>6.7</td>\n",
       "      <td>3.0</td>\n",
       "      <td>5.2</td>\n",
       "      <td>2.3</td>\n",
       "    </tr>\n",
       "    <tr>\n",
       "      <th>146</th>\n",
       "      <td>6.3</td>\n",
       "      <td>2.5</td>\n",
       "      <td>5.0</td>\n",
       "      <td>1.9</td>\n",
       "    </tr>\n",
       "    <tr>\n",
       "      <th>147</th>\n",
       "      <td>6.5</td>\n",
       "      <td>3.0</td>\n",
       "      <td>5.2</td>\n",
       "      <td>2.0</td>\n",
       "    </tr>\n",
       "    <tr>\n",
       "      <th>148</th>\n",
       "      <td>6.2</td>\n",
       "      <td>3.4</td>\n",
       "      <td>5.4</td>\n",
       "      <td>2.3</td>\n",
       "    </tr>\n",
       "    <tr>\n",
       "      <th>149</th>\n",
       "      <td>5.9</td>\n",
       "      <td>3.0</td>\n",
       "      <td>5.1</td>\n",
       "      <td>1.8</td>\n",
       "    </tr>\n",
       "  </tbody>\n",
       "</table>\n",
       "<p>150 rows × 4 columns</p>\n",
       "</div>"
      ]
     },
     "execution_count": 70,
     "metadata": {},
     "output_type": "execute_result"
    }
   ],
   "execution_count": 70
  },
  {
   "metadata": {
    "ExecuteTime": {
     "end_time": "2025-09-05T22:05:45.665133Z",
     "start_time": "2025-09-05T22:05:45.575927Z"
    }
   },
   "cell_type": "code",
   "source": [
    "# Q6\n",
    "import seaborn as sns\n",
    "\n",
    "df_iris[\"class\"] = iris.target\n",
    "df_iris[\"class\"] = df_iris[\"class\"].map(dict(enumerate(iris.target_names)))\n",
    "\n",
    "sns.scatterplot(\n",
    "    data=df_iris,\n",
    "    x=\"sepal length (cm)\",\n",
    "    y=\"sepal width (cm)\",\n",
    "    hue=\"class\",\n",
    "    marker=\"o\",\n",
    ")\n",
    "\n",
    "plt.show()"
   ],
   "id": "240b592ab48c807e",
   "outputs": [
    {
     "data": {
      "text/plain": [
       "<Figure size 640x480 with 1 Axes>"
      ],
      "image/png": "[encoded data removed]"
     },
     "metadata": {},
     "output_type": "display_data"
    }
   ],
   "execution_count": 71
  },
  {
   "metadata": {
    "ExecuteTime": {
     "end_time": "2025-09-05T22:05:45.673830Z",
     "start_time": "2025-09-05T22:05:45.666195Z"
    }
   },
   "cell_type": "code",
   "source": [
    "# Q7\n",
    "numeric_features = ['sepal length (cm)', 'sepal width (cm)', 'petal length (cm)', 'petal width (cm)']\n",
    "summary_stats = df_iris[numeric_features].agg(['mean', 'median', 'std']).T\n",
    "print(summary_stats)"
   ],
   "id": "2a492eed39b57e6b",
   "outputs": [
    {
     "name": "stdout",
     "output_type": "stream",
     "text": [
      "                       mean  median       std\n",
      "sepal length (cm)  5.843333    5.80  0.828066\n",
      "sepal width (cm)   3.057333    3.00  0.435866\n",
      "petal length (cm)  3.758000    4.35  1.765298\n",
      "petal width (cm)   1.199333    1.30  0.762238\n"
     ]
    }
   ],
   "execution_count": 72
  },
  {
   "metadata": {
    "ExecuteTime": {
     "end_time": "2025-09-05T22:05:45.683378Z",
     "start_time": "2025-09-05T22:05:45.674688Z"
    }
   },
   "cell_type": "code",
   "source": [
    "# Q8\n",
    "from sklearn.preprocessing import StandardScaler\n",
    "\n",
    "scaler = StandardScaler()\n",
    "scaled_features = scaler.fit_transform(df_iris[numeric_features])\n",
    "\n",
    "df_scaled_scaled = pd.DataFrame(scaled_features, columns=numeric_features)\n",
    "df_scaled_scaled"
   ],
   "id": "f9f01389eabecde0",
   "outputs": [
    {
     "data": {
      "text/plain": [
       "     sepal length (cm)  sepal width (cm)  petal length (cm)  petal width (cm)\n",
       "0            -0.900681          1.019004          -1.340227         -1.315444\n",
       "1            -1.143017         -0.131979          -1.340227         -1.315444\n",
       "2            -1.385353          0.328414          -1.397064         -1.315444\n",
       "3            -1.506521          0.098217          -1.283389         -1.315444\n",
       "4            -1.021849          1.249201          -1.340227         -1.315444\n",
       "..                 ...               ...                ...               ...\n",
       "145           1.038005         -0.131979           0.819596          1.448832\n",
       "146           0.553333         -1.282963           0.705921          0.922303\n",
       "147           0.795669         -0.131979           0.819596          1.053935\n",
       "148           0.432165          0.788808           0.933271          1.448832\n",
       "149           0.068662         -0.131979           0.762758          0.790671\n",
       "\n",
       "[150 rows x 4 columns]"
      ],
      "text/html": [
       "<div>\n",
       "<style scoped>\n",
       "    .dataframe tbody tr th:only-of-type {\n",
       "        vertical-align: middle;\n",
       "    }\n",
       "\n",
       "    .dataframe tbody tr th {\n",
       "        vertical-align: top;\n",
       "    }\n",
       "\n",
       "    .dataframe thead th {\n",
       "        text-align: right;\n",
       "    }\n",
       "</style>\n",
       "<table border=\"1\" class=\"dataframe\">\n",
       "  <thead>\n",
       "    <tr style=\"text-align: right;\">\n",
       "      <th></th>\n",
       "      <th>sepal length (cm)</th>\n",
       "      <th>sepal width (cm)</th>\n",
       "      <th>petal length (cm)</th>\n",
       "      <th>petal width (cm)</th>\n",
       "    </tr>\n",
       "  </thead>\n",
       "  <tbody>\n",
       "    <tr>\n",
       "      <th>0</th>\n",
       "      <td>-0.900681</td>\n",
       "      <td>1.019004</td>\n",
       "      <td>-1.340227</td>\n",
       "      <td>-1.315444</td>\n",
       "    </tr>\n",
       "    <tr>\n",
       "      <th>1</th>\n",
       "      <td>-1.143017</td>\n",
       "      <td>-0.131979</td>\n",
       "      <td>-1.340227</td>\n",
       "      <td>-1.315444</td>\n",
       "    </tr>\n",
       "    <tr>\n",
       "      <th>2</th>\n",
       "      <td>-1.385353</td>\n",
       "      <td>0.328414</td>\n",
       "      <td>-1.397064</td>\n",
       "      <td>-1.315444</td>\n",
       "    </tr>\n",
       "    <tr>\n",
       "      <th>3</th>\n",
       "      <td>-1.506521</td>\n",
       "      <td>0.098217</td>\n",
       "      <td>-1.283389</td>\n",
       "      <td>-1.315444</td>\n",
       "    </tr>\n",
       "    <tr>\n",
       "      <th>4</th>\n",
       "      <td>-1.021849</td>\n",
       "      <td>1.249201</td>\n",
       "      <td>-1.340227</td>\n",
       "      <td>-1.315444</td>\n",
       "    </tr>\n",
       "    <tr>\n",
       "      <th>...</th>\n",
       "      <td>...</td>\n",
       "      <td>...</td>\n",
       "      <td>...</td>\n",
       "      <td>...</td>\n",
       "    </tr>\n",
       "    <tr>\n",
       "      <th>145</th>\n",
       "      <td>1.038005</td>\n",
       "      <td>-0.131979</td>\n",
       "      <td>0.819596</td>\n",
       "      <td>1.448832</td>\n",
       "    </tr>\n",
       "    <tr>\n",
       "      <th>146</th>\n",
       "      <td>0.553333</td>\n",
       "      <td>-1.282963</td>\n",
       "      <td>0.705921</td>\n",
       "      <td>0.922303</td>\n",
       "    </tr>\n",
       "    <tr>\n",
       "      <th>147</th>\n",
       "      <td>0.795669</td>\n",
       "      <td>-0.131979</td>\n",
       "      <td>0.819596</td>\n",
       "      <td>1.053935</td>\n",
       "    </tr>\n",
       "    <tr>\n",
       "      <th>148</th>\n",
       "      <td>0.432165</td>\n",
       "      <td>0.788808</td>\n",
       "      <td>0.933271</td>\n",
       "      <td>1.448832</td>\n",
       "    </tr>\n",
       "    <tr>\n",
       "      <th>149</th>\n",
       "      <td>0.068662</td>\n",
       "      <td>-0.131979</td>\n",
       "      <td>0.762758</td>\n",
       "      <td>0.790671</td>\n",
       "    </tr>\n",
       "  </tbody>\n",
       "</table>\n",
       "<p>150 rows × 4 columns</p>\n",
       "</div>"
      ]
     },
     "execution_count": 73,
     "metadata": {},
     "output_type": "execute_result"
    }
   ],
   "execution_count": 73
  },
  {
   "metadata": {
    "ExecuteTime": {
     "end_time": "2025-09-05T22:05:45.691164Z",
     "start_time": "2025-09-05T22:05:45.684184Z"
    }
   },
   "cell_type": "code",
   "source": [
    "# Q9\n",
    "sepal_petal_corr = df_iris['sepal length (cm)'].corr(df_iris['petal length (cm)'])\n",
    "print(f\"Correlation between sepal length and petal length: {sepal_petal_corr:.3f}\")\n",
    "corr_matrix = df_iris[numeric_features].corr()\n",
    "\n",
    "print(\"\\nCorrelation matrix of numeric features:\")\n",
    "corr_matrix"
   ],
   "id": "ca8fa6cbe369d93f",
   "outputs": [
    {
     "name": "stdout",
     "output_type": "stream",
     "text": [
      "Correlation between sepal length and petal length: 0.872\n",
      "\n",
      "Correlation matrix of numeric features:\n"
     ]
    },
    {
     "data": {
      "text/plain": [
       "                   sepal length (cm)  sepal width (cm)  petal length (cm)  \\\n",
       "sepal length (cm)           1.000000         -0.117570           0.871754   \n",
       "sepal width (cm)           -0.117570          1.000000          -0.428440   \n",
       "petal length (cm)           0.871754         -0.428440           1.000000   \n",
       "petal width (cm)            0.817941         -0.366126           0.962865   \n",
       "\n",
       "                   petal width (cm)  \n",
       "sepal length (cm)          0.817941  \n",
       "sepal width (cm)          -0.366126  \n",
       "petal length (cm)          0.962865  \n",
       "petal width (cm)           1.000000  "
      ],
      "text/html": [
       "<div>\n",
       "<style scoped>\n",
       "    .dataframe tbody tr th:only-of-type {\n",
       "        vertical-align: middle;\n",
       "    }\n",
       "\n",
       "    .dataframe tbody tr th {\n",
       "        vertical-align: top;\n",
       "    }\n",
       "\n",
       "    .dataframe thead th {\n",
       "        text-align: right;\n",
       "    }\n",
       "</style>\n",
       "<table border=\"1\" class=\"dataframe\">\n",
       "  <thead>\n",
       "    <tr style=\"text-align: right;\">\n",
       "      <th></th>\n",
       "      <th>sepal length (cm)</th>\n",
       "      <th>sepal width (cm)</th>\n",
       "      <th>petal length (cm)</th>\n",
       "      <th>petal width (cm)</th>\n",
       "    </tr>\n",
       "  </thead>\n",
       "  <tbody>\n",
       "    <tr>\n",
       "      <th>sepal length (cm)</th>\n",
       "      <td>1.000000</td>\n",
       "      <td>-0.117570</td>\n",
       "      <td>0.871754</td>\n",
       "      <td>0.817941</td>\n",
       "    </tr>\n",
       "    <tr>\n",
       "      <th>sepal width (cm)</th>\n",
       "      <td>-0.117570</td>\n",
       "      <td>1.000000</td>\n",
       "      <td>-0.428440</td>\n",
       "      <td>-0.366126</td>\n",
       "    </tr>\n",
       "    <tr>\n",
       "      <th>petal length (cm)</th>\n",
       "      <td>0.871754</td>\n",
       "      <td>-0.428440</td>\n",
       "      <td>1.000000</td>\n",
       "      <td>0.962865</td>\n",
       "    </tr>\n",
       "    <tr>\n",
       "      <th>petal width (cm)</th>\n",
       "      <td>0.817941</td>\n",
       "      <td>-0.366126</td>\n",
       "      <td>0.962865</td>\n",
       "      <td>1.000000</td>\n",
       "    </tr>\n",
       "  </tbody>\n",
       "</table>\n",
       "</div>"
      ]
     },
     "execution_count": 74,
     "metadata": {},
     "output_type": "execute_result"
    }
   ],
   "execution_count": 74
  },
  {
   "metadata": {
    "ExecuteTime": {
     "end_time": "2025-09-05T22:05:50.189457Z",
     "start_time": "2025-09-05T22:05:45.691893Z"
    }
   },
   "cell_type": "code",
   "source": [
    "# Q10\n",
    "from names_dataset import NameDataset, NameWrapper\n",
    "\n",
    "nd = NameDataset()\n",
    "\n",
    "print(\"Guthrie, mbguthrie1@crimson.ua.edu\")\n",
    "print(NameWrapper(nd.search('Maddox')).describe)"
   ],
   "id": "f89cc8e0d8d462ee",
   "outputs": [
    {
     "name": "stdout",
     "output_type": "stream",
     "text": [
      "Guthrie, mbguthrie1@crimson.ua.edu\n",
      "Male, United States\n"
     ]
    }
   ],
   "execution_count": 75
  }
 ],
 "metadata": {
  "kernelspec": {
   "display_name": "Python 3",
   "language": "python",
   "name": "python3"
  },
  "language_info": {
   "codemirror_mode": {
    "name": "ipython",
    "version": 2
   },
   "file_extension": ".py",
   "mimetype": "text/x-python",
   "name": "python",
   "nbconvert_exporter": "python",
   "pygments_lexer": "ipython2",
   "version": "2.7.6"
  }
 },
 "nbformat": 4,
 "nbformat_minor": 5
}
