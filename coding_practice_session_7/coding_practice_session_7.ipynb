{
 "cells": [
  {
   "cell_type": "code",
   "id": "initial_id",
   "metadata": {
    "collapsed": true,
    "ExecuteTime": {
     "end_time": "2025-10-17T17:29:00.830993Z",
     "start_time": "2025-10-17T17:29:00.828535Z"
    }
   },
   "source": [
    "# CS 451/551\n",
    "# Coding Practice Session 7\n",
    "# Last name: Guthrie\n",
    "# Email: mbguthrie1@crimson.ua.edu\n",
    "# Q1\n",
    "import torch.nn as nn\n",
    "import torch.nn.functional as F\n",
    "\n",
    "class MLP(nn.Module):\n",
    "    def __init__(self):\n",
    "        super(MLP, self).__init__()\n",
    "        self.fc1 = nn.Linear(28 * 28, 128)\n",
    "        self.fc2 = nn.Linear(128, 64)\n",
    "        self.fc3 = nn.Linear(64, 10)\n",
    "\n",
    "    def forward(self, x):\n",
    "        x = x.view(-1, 28 * 28)\n",
    "        x = F.relu(self.fc1(x))\n",
    "        x = F.relu(self.fc2(x))\n",
    "        x = F.softmax(self.fc3(x), dim=1)\n",
    "        return x"
   ],
   "outputs": [],
   "execution_count": 18
  },
  {
   "metadata": {
    "ExecuteTime": {
     "end_time": "2025-10-17T17:29:00.834260Z",
     "start_time": "2025-10-17T17:29:00.831759Z"
    }
   },
   "cell_type": "code",
   "source": [
    "# Q2\n",
    "import torch\n",
    "\n",
    "class CNN(nn.Module):\n",
    "    def __init__(self):\n",
    "        super(CNN, self).__init__()\n",
    "        self.conv1 = nn.Conv2d(in_channels=1, out_channels=32, kernel_size=3)\n",
    "        self.pool1 = nn.MaxPool2d(kernel_size=2, stride=2)\n",
    "        self.conv2 = nn.Conv2d(in_channels=32, out_channels=64, kernel_size=3)\n",
    "        self.pool2 = nn.MaxPool2d(kernel_size=2, stride=2)\n",
    "        self.fc1 = nn.Linear(64 * 5 * 5, 128)\n",
    "        self.dropout = nn.Dropout(0.25)\n",
    "        self.fc2 = nn.Linear(128, 10)\n",
    "\n",
    "    def forward(self, x):\n",
    "        x = F.relu(self.conv1(x))\n",
    "        x = self.pool1(x)\n",
    "        x = F.relu(self.conv2(x))\n",
    "        x = self.pool2(x)\n",
    "        x = torch.flatten(x, 1)\n",
    "        x = F.relu(self.fc1(x))\n",
    "        x = self.dropout(x)\n",
    "        x = F.softmax(self.fc2(x), dim=1)\n",
    "        return x"
   ],
   "id": "e5024deef41c0da3",
   "outputs": [],
   "execution_count": 19
  },
  {
   "metadata": {
    "ExecuteTime": {
     "end_time": "2025-10-17T17:29:00.854336Z",
     "start_time": "2025-10-17T17:29:00.835027Z"
    }
   },
   "cell_type": "code",
   "source": [
    "# Q3\n",
    "from torch.utils.data import DataLoader\n",
    "from torchvision import datasets, transforms\n",
    "\n",
    "transform = transforms.Compose([\n",
    "    transforms.ToTensor(),\n",
    "    transforms.Normalize((0.5,), (0.5,))\n",
    "])\n",
    "\n",
    "trainset = datasets.MNIST(root='./data', train=True, download=True, transform=transform)\n",
    "testset = datasets.MNIST(root='./data', train=False, download=True, transform=transform)\n",
    "\n",
    "trainloader = DataLoader(trainset, batch_size=64, shuffle=True)\n",
    "testloader = DataLoader(testset, batch_size=64, shuffle=False)\n",
    "\n",
    "# Training function\n",
    "def train_model(model, trainloader, criterion, optimizer, epochs):\n",
    "    model.train()\n",
    "    for epoch in range(epochs):\n",
    "        running_loss = 0.0\n",
    "        for images, labels in trainloader:\n",
    "            optimizer.zero_grad()\n",
    "            outputs = model(images)\n",
    "            loss = criterion(outputs, labels)\n",
    "            loss.backward()\n",
    "            optimizer.step()\n",
    "            running_loss += loss.item()\n",
    "        print(f\"Epoch {epoch + 1}/{epochs}, Loss: {running_loss / len(trainloader):.4f}\")"
   ],
   "id": "2d20c4624ac922af",
   "outputs": [],
   "execution_count": 20
  },
  {
   "metadata": {
    "ExecuteTime": {
     "end_time": "2025-10-17T17:29:00.857127Z",
     "start_time": "2025-10-17T17:29:00.855047Z"
    }
   },
   "cell_type": "code",
   "source": [
    "# Q4\n",
    "def evaluate_model(model, testloader):\n",
    "    model.eval()\n",
    "    correct = 0\n",
    "    total = 0\n",
    "    with torch.no_grad():\n",
    "        for images, labels in testloader:\n",
    "            outputs = model(images)\n",
    "            _, predicted = torch.max(outputs, 1)\n",
    "            total += labels.size(0)\n",
    "            correct += (predicted == labels).sum().item()\n",
    "    accuracy = (correct / total) * 100\n",
    "    return accuracy"
   ],
   "id": "d2b1b65ee8486b7d",
   "outputs": [],
   "execution_count": 21
  },
  {
   "metadata": {
    "ExecuteTime": {
     "end_time": "2025-10-17T17:30:27.612431Z",
     "start_time": "2025-10-17T17:29:00.858157Z"
    }
   },
   "cell_type": "code",
   "source": [
    "# Q5\n",
    "import torch.optim as optim\n",
    "\n",
    "# Train and evaluate MLP\n",
    "mlp_model = MLP()\n",
    "criterion = nn.CrossEntropyLoss()\n",
    "optimizer = optim.Adam(mlp_model.parameters(), lr=0.001)\n",
    "\n",
    "print(\"Training MLP Model...\")\n",
    "train_model(mlp_model, trainloader, criterion, optimizer, epochs=3)\n",
    "mlp_accuracy = evaluate_model(mlp_model, testloader)\n",
    "print(f\"MLP Test Accuracy: {mlp_accuracy:.2f}%\")\n",
    "\n",
    "# Train and evaluate CNN\n",
    "cnn_model = CNN()\n",
    "criterion = nn.CrossEntropyLoss()\n",
    "optimizer = optim.Adam(cnn_model.parameters(), lr=0.001)\n",
    "\n",
    "print(\"\\nTraining CNN Model...\")\n",
    "train_model(cnn_model, trainloader, criterion, optimizer, epochs=3)\n",
    "cnn_accuracy = evaluate_model(cnn_model, testloader)\n",
    "print(f\"CNN Test Accuracy: {cnn_accuracy:.2f}%\")"
   ],
   "id": "f66135031b31337f",
   "outputs": [
    {
     "name": "stdout",
     "output_type": "stream",
     "text": [
      "Training MLP Model...\n",
      "Epoch 1/3, Loss: 1.6419\n",
      "Epoch 2/3, Loss: 1.5495\n",
      "Epoch 3/3, Loss: 1.5326\n",
      "MLP Test Accuracy: 92.51%\n",
      "\n",
      "Training CNN Model...\n",
      "Epoch 1/3, Loss: 1.5434\n",
      "Epoch 2/3, Loss: 1.4895\n",
      "Epoch 3/3, Loss: 1.4830\n",
      "CNN Test Accuracy: 98.68%\n"
     ]
    }
   ],
   "execution_count": 22
  }
 ],
 "metadata": {
  "kernelspec": {
   "display_name": "Python 3",
   "language": "python",
   "name": "python3"
  },
  "language_info": {
   "codemirror_mode": {
    "name": "ipython",
    "version": 2
   },
   "file_extension": ".py",
   "mimetype": "text/x-python",
   "name": "python",
   "nbconvert_exporter": "python",
   "pygments_lexer": "ipython2",
   "version": "2.7.6"
  }
 },
 "nbformat": 4,
 "nbformat_minor": 5
}
