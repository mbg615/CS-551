{
 "cells": [
  {
   "cell_type": "code",
   "id": "initial_id",
   "metadata": {
    "collapsed": true,
    "ExecuteTime": {
     "end_time": "2025-09-11T18:56:38.126257Z",
     "start_time": "2025-09-11T18:56:38.121167Z"
    }
   },
   "source": [
    "# CS 451/551\n",
    "# Coding Practice Session 1\n",
    "# Last name: Guthrie\n",
    "# Email: mbguthrie1@crimson.ua.edu\n",
    "# Q1\n",
    "\n",
    "import pandas as pd\n",
    "\n",
    "data = {\n",
    "    'Movies': ['The Minecraft Movie', 'KPop Demon Hunter', 'The Princess Bride', 'Haunted Mansion', 'The Lego Movie'], \n",
    "    'Likes': ['It was fun and lived up to the hype.', 'The music was fantastic.', 'The jokes and quips were hilarious.', 'It was much funnier and not scary like the original.', 'I liked the action and fun that comes from using legos.'], \n",
    "    'Dislikes': ['It didn\\'t follow the game.' , 'I didn\\'t like some of the animation styles, especially in some of the mushy scenes (Popcorn eyes).', 'Nothing, I think the entire movie is great.', 'I don\\'t agree with the direction of some parts.', 'Some of the jokes were cheezy.'], \n",
    "}\n",
    "\n",
    "df = pd.DataFrame(data)\n",
    "df"
   ],
   "execution_count": 31,
   "outputs": []
  },
  {
   "metadata": {},
   "cell_type": "markdown",
   "source": "",
   "id": "fe0158d272e8e917"
  },
  {
   "metadata": {
    "ExecuteTime": {
     "end_time": "2025-09-11T18:56:38.132679Z",
     "start_time": "2025-09-11T18:56:38.127461Z"
    }
   },
   "cell_type": "code",
   "source": [
    "# Q2\n",
    "df['Movies'] = df['Movies'].str.replace(' ', '')\n",
    "df['Likes'] = df['Likes'].str.replace('.', '').str.replace(',', '')\n",
    "df['Dislikes'] = df['Dislikes'].str.replace('.', '').str.replace(',', '')\n",
    "df"
   ],
   "id": "ea4e5d22bba86e9b",
   "execution_count": 32,
   "outputs": []
  },
  {
   "metadata": {
    "ExecuteTime": {
     "end_time": "2025-09-11T18:56:38.137974Z",
     "start_time": "2025-09-11T18:56:38.133333Z"
    }
   },
   "cell_type": "code",
   "source": [
    "# Q3\n",
    "df['Unique_Words_Count'] = df.apply(lambda x: len(set(str(x['Likes']).lower().split() + str(x['Dislikes']).lower().split())), axis=1)\n",
    "df"
   ],
   "id": "1f6af8afc3500df3",
   "execution_count": 33,
   "outputs": []
  },
  {
   "metadata": {
    "ExecuteTime": {
     "end_time": "2025-09-11T18:56:38.209885Z",
     "start_time": "2025-09-11T18:56:38.162556Z"
    }
   },
   "cell_type": "code",
   "source": [
    "# Q4\n",
    "import matplotlib.pyplot as plt\n",
    "df['Total_Word_Count'] = df.apply(lambda row: len(str(row['Likes']).split()) + len(str(row['Dislikes']).split()), axis=1)\n",
    "\n",
    "plt.bar(df['Movies'], df['Total_Word_Count'])\n",
    "plt.xlabel('Movies')\n",
    "plt.ylabel('Total Word Count')\n",
    "plt.xticks(rotation=10)\n",
    "plt.show()"
   ],
   "id": "ff2f7eafc5a4754d",
   "execution_count": 34,
   "outputs": []
  },
  {
   "metadata": {
    "ExecuteTime": {
     "end_time": "2025-09-11T18:56:38.218090Z",
     "start_time": "2025-09-11T18:56:38.211149Z"
    }
   },
   "cell_type": "code",
   "source": [
    "# Q5\n",
    "from sklearn.datasets import load_iris\n",
    "\n",
    "iris = load_iris()\n",
    "df_iris = pd.DataFrame(iris.data, columns=iris.feature_names)\n",
    "\n",
    "df_iris"
   ],
   "id": "6fe35f25b0b6cde2",
   "execution_count": 35,
   "outputs": []
  },
  {
   "metadata": {
    "ExecuteTime": {
     "end_time": "2025-09-11T18:56:38.308422Z",
     "start_time": "2025-09-11T18:56:38.241733Z"
    }
   },
   "cell_type": "code",
   "source": [
    "# Q6\n",
    "import seaborn as sns\n",
    "\n",
    "df_iris[\"class\"] = iris.target\n",
    "df_iris[\"class\"] = df_iris[\"class\"].map(dict(enumerate(iris.target_names)))\n",
    "\n",
    "sns.scatterplot(\n",
    "    data=df_iris,\n",
    "    x=\"sepal length (cm)\",\n",
    "    y=\"sepal width (cm)\",\n",
    "    hue=\"class\",\n",
    "    marker=\"o\",\n",
    ")\n",
    "\n",
    "plt.show()"
   ],
   "id": "240b592ab48c807e",
   "execution_count": 36,
   "outputs": []
  },
  {
   "metadata": {
    "ExecuteTime": {
     "end_time": "2025-09-11T18:56:38.315781Z",
     "start_time": "2025-09-11T18:56:38.309742Z"
    }
   },
   "cell_type": "code",
   "source": [
    "# Q7\n",
    "numeric_features = ['sepal length (cm)', 'sepal width (cm)', 'petal length (cm)', 'petal width (cm)']\n",
    "summary_stats = df_iris[numeric_features].agg(['mean', 'median', 'std']).T\n",
    "print(summary_stats)"
   ],
   "id": "2a492eed39b57e6b",
   "execution_count": 37,
   "outputs": []
  },
  {
   "metadata": {
    "ExecuteTime": {
     "end_time": "2025-09-11T18:56:38.435166Z",
     "start_time": "2025-09-11T18:56:38.428585Z"
    }
   },
   "cell_type": "code",
   "source": [
    "# Q8\n",
    "from sklearn.preprocessing import StandardScaler\n",
    "\n",
    "scaler = StandardScaler()\n",
    "scaled_features = scaler.fit_transform(df_iris[numeric_features])\n",
    "\n",
    "df_scaled_scaled = pd.DataFrame(scaled_features, columns=numeric_features)\n",
    "df_scaled_scaled"
   ],
   "id": "f9f01389eabecde0",
   "execution_count": 38,
   "outputs": []
  },
  {
   "metadata": {
    "ExecuteTime": {
     "end_time": "2025-09-11T18:56:38.504188Z",
     "start_time": "2025-09-11T18:56:38.498570Z"
    }
   },
   "cell_type": "code",
   "source": [
    "# Q9\n",
    "sepal_petal_corr = df_iris['sepal length (cm)'].corr(df_iris['petal length (cm)'])\n",
    "print(f\"Correlation between sepal length and petal length: {sepal_petal_corr:.3f}\")\n",
    "corr_matrix = df_iris[numeric_features].corr()\n",
    "\n",
    "print(\"\\nCorrelation matrix of numeric features:\")\n",
    "corr_matrix"
   ],
   "id": "ca8fa6cbe369d93f",
   "execution_count": 39,
   "outputs": []
  },
  {
   "metadata": {
    "ExecuteTime": {
     "end_time": "2025-09-11T18:56:43.893279Z",
     "start_time": "2025-09-11T18:56:38.529675Z"
    }
   },
   "cell_type": "code",
   "source": [
    "# Q10\n",
    "from names_dataset import NameDataset, NameWrapper\n",
    "\n",
    "nd = NameDataset()\n",
    "\n",
    "print(\"Guthrie, mbguthrie1@crimson.ua.edu\")\n",
    "print(NameWrapper(nd.search('Maddox')).describe)"
   ],
   "id": "f89cc8e0d8d462ee",
   "execution_count": 40,
   "outputs": []
  }
 ],
 "metadata": {
  "kernelspec": {
   "display_name": "Python 3",
   "language": "python",
   "name": "python3"
  },
  "language_info": {
   "codemirror_mode": {
    "name": "ipython",
    "version": 2
   },
   "file_extension": ".py",
   "mimetype": "text/x-python",
   "name": "python",
   "nbconvert_exporter": "python",
   "pygments_lexer": "ipython2",
   "version": "2.7.6"
  }
 },
 "nbformat": 4,
 "nbformat_minor": 5
}
