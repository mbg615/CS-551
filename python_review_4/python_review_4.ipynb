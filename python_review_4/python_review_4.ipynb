{
 "cells": [
  {
   "metadata": {
    "ExecuteTime": {
     "end_time": "2025-10-01T15:46:04.506923Z",
     "start_time": "2025-10-01T15:46:04.503919Z"
    }
   },
   "cell_type": "code",
   "source": [
    "# A1\n",
    "game_board = [\n",
    "    [1,    None, 2],\n",
    "    [2,    1,    1],\n",
    "    [None, 2,    None]\n",
    "]"
   ],
   "id": "325bb498ab1909b0",
   "outputs": [],
   "execution_count": 1
  },
  {
   "metadata": {
    "ExecuteTime": {
     "end_time": "2025-10-01T16:43:30.568917Z",
     "start_time": "2025-10-01T16:43:30.564477Z"
    }
   },
   "cell_type": "code",
   "source": [
    "# A2\n",
    "def print_board(board):\n",
    "    for row in board:\n",
    "        for space in row:\n",
    "            print(\"|\", end=\"\")\n",
    "            match space:\n",
    "                case None:\n",
    "                    print(\"_\", end=\"\")\n",
    "                case 1:\n",
    "                    print(\"O\", end=\"\")\n",
    "                case 2:\n",
    "                    print(\"X\", end=\"\")\n",
    "        print('|')\n",
    "        \n",
    "print_board(game_board)\n"
   ],
   "id": "5e50a3a71ddf23d1",
   "outputs": [
    {
     "name": "stdout",
     "output_type": "stream",
     "text": [
      "|O|_|X|\n",
      "|X|O|O|\n",
      "|_|X|_|\n"
     ]
    }
   ],
   "execution_count": 11
  },
  {
   "metadata": {
    "ExecuteTime": {
     "end_time": "2025-10-01T16:18:43.182924Z",
     "start_time": "2025-10-01T16:18:43.178866Z"
    }
   },
   "cell_type": "code",
   "source": [
    "# B1\n",
    "def add_matrix(mat1, mat2) -> list:\n",
    "    cols = len(mat1[0])\n",
    "    rows = len(mat1)\n",
    "    return [[mat1[r][c] + mat2[r][c] for c in range(cols)] for r in range(rows)]\n",
    "\n",
    "matA = [[1, 2], [3, 4]]\n",
    "matB = [[6, 0], [0, 6]]\n",
    "print(add_matrix(matA, matB))\n",
    "\n",
    "matC = [[1, 1, 1, 1], [0, 0, 0, 0]]\n",
    "matD = [[6, 0, 6, 0], [0, 0, 0, 0]]\n",
    "print(add_matrix(matC, matD))"
   ],
   "id": "ee399e63ce6d7d29",
   "outputs": [
    {
     "name": "stdout",
     "output_type": "stream",
     "text": [
      "[[7, 2], [3, 10]]\n",
      "[[7, 1, 7, 1], [0, 0, 0, 0]]\n"
     ]
    }
   ],
   "execution_count": 6
  },
  {
   "metadata": {
    "ExecuteTime": {
     "end_time": "2025-10-01T16:26:24.625679Z",
     "start_time": "2025-10-01T16:26:24.621883Z"
    }
   },
   "cell_type": "code",
   "source": [
    "# B2\n",
    "def mult_matrix(mat1, mat2) -> list:\n",
    "    cols = len(mat1[0])\n",
    "    rows = len(mat1)\n",
    "    return [[mat1[r][c] * mat2[r][c] for c in range(cols)] for r in range(rows)]\n",
    "\n",
    "matA = [[1, 2], [3, 4]]\n",
    "matB = [[6, 0], [0, 6]]\n",
    "print(mult_matrix(matA, matB))\n",
    "\n",
    "matC = [[1, 1, 1, 1], [0, 0, 0, 0]]\n",
    "matD = [[6, 0, 6, 0], [0, 0, 0, 0]]\n",
    "print(mult_matrix(matC, matD))"
   ],
   "id": "d9b57b4955c4bd9",
   "outputs": [
    {
     "name": "stdout",
     "output_type": "stream",
     "text": [
      "[[6, 0], [0, 24]]\n",
      "[[6, 0, 6, 0], [0, 0, 0, 0]]\n"
     ]
    }
   ],
   "execution_count": 7
  },
  {
   "metadata": {
    "ExecuteTime": {
     "end_time": "2025-10-01T16:31:21.121298Z",
     "start_time": "2025-10-01T16:31:21.118007Z"
    }
   },
   "cell_type": "code",
   "source": [
    "# B3\n",
    "def add_matrix(mat1, mat2) -> list:\n",
    "    cols = len(mat1[0])\n",
    "    rows = len(mat1)\n",
    "    return [[None if mat1[r][c] is None or mat2[r][c] is None else mat1[r][c] + mat2[r][c] for c in range(cols)] for r in range(rows)]\n",
    "\n",
    "matA = [[1, 2], [3, 4]]\n",
    "matB = [[6, 0], [0, 6]]\n",
    "print(add_matrix(matA, matB))\n",
    "\n",
    "matC = [[1, 1, 1, 1], [0, 0, 0, 0]]\n",
    "matD = [[6, 0, 6, 0], [0, 0, 0, 0]]\n",
    "print(add_matrix(matC, matD))"
   ],
   "id": "51a16ee51a74170a",
   "outputs": [
    {
     "name": "stdout",
     "output_type": "stream",
     "text": [
      "[[None, 2], [3, 10]]\n",
      "[[7, 1, None, 1], [0, 0, 0, None]]\n"
     ]
    }
   ],
   "execution_count": 8
  }
 ],
 "metadata": {
  "kernelspec": {
   "display_name": "Python 3",
   "language": "python",
   "name": "python3"
  },
  "language_info": {
   "codemirror_mode": {
    "name": "ipython",
    "version": 2
   },
   "file_extension": ".py",
   "mimetype": "text/x-python",
   "name": "python",
   "nbconvert_exporter": "python",
   "pygments_lexer": "ipython2",
   "version": "2.7.6"
  }
 },
 "nbformat": 4,
 "nbformat_minor": 5
}
