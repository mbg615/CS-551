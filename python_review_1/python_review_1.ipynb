{
 "cells": [
  {
   "cell_type": "code",
   "id": "initial_id",
   "metadata": {
    "collapsed": true,
    "ExecuteTime": {
     "end_time": "2025-10-01T03:38:44.708861Z",
     "start_time": "2025-10-01T03:38:44.705335Z"
    }
   },
   "source": [
    "# A1\n",
    "import random\n",
    "\n",
    "print(random.randint(0, 10))"
   ],
   "outputs": [
    {
     "name": "stdout",
     "output_type": "stream",
     "text": [
      "9\n"
     ]
    }
   ],
   "execution_count": 30
  },
  {
   "metadata": {
    "ExecuteTime": {
     "end_time": "2025-10-01T03:38:44.712490Z",
     "start_time": "2025-10-01T03:38:44.710277Z"
    }
   },
   "cell_type": "code",
   "source": [
    "# A2\n",
    "random_number = random.randint(0, 100)\n",
    "print('bigger than 50') if random_number > 50 else print('smaller than 50')"
   ],
   "id": "5fb30f13243a788b",
   "outputs": [
    {
     "name": "stdout",
     "output_type": "stream",
     "text": [
      "bigger than 50\n"
     ]
    }
   ],
   "execution_count": 31
  },
  {
   "metadata": {
    "ExecuteTime": {
     "end_time": "2025-10-01T03:38:44.715908Z",
     "start_time": "2025-10-01T03:38:44.713177Z"
    }
   },
   "cell_type": "code",
   "source": [
    "# A3\n",
    "def character(num) -> str:\n",
    "    match num:\n",
    "        case x if x < 250:\n",
    "            return str(num) + ': smaller than 250'\n",
    "        case x if 250 <= x < 500:\n",
    "            return str(num) + ': bigger than or equal to 250, but smaller than 500'\n",
    "        case x if x >= 500:\n",
    "            return str(num) + ': bigger than or equal to 500'\n",
    "        \n",
    "print(character(147))\n",
    "print(character(250))\n",
    "print(character(385))\n",
    "print(character(500))\n",
    "print(character(741))"
   ],
   "id": "8f29817e9f95d7b6",
   "outputs": [
    {
     "name": "stdout",
     "output_type": "stream",
     "text": [
      "147: smaller than 250\n",
      "250: bigger than or equal to 250, but smaller than 500\n",
      "385: bigger than or equal to 250, but smaller than 500\n",
      "500: bigger than or equal to 500\n",
      "741: bigger than or equal to 500\n"
     ]
    }
   ],
   "execution_count": 32
  },
  {
   "metadata": {
    "ExecuteTime": {
     "end_time": "2025-10-01T03:38:44.719192Z",
     "start_time": "2025-10-01T03:38:44.717335Z"
    }
   },
   "cell_type": "code",
   "source": [
    "# A4\n",
    "for x in range(0, 5):\n",
    "    print(character(random.randint(0, 1000)))"
   ],
   "id": "ee1b7018a0f200c9",
   "outputs": [
    {
     "name": "stdout",
     "output_type": "stream",
     "text": [
      "884: bigger than or equal to 500\n",
      "916: bigger than or equal to 500\n",
      "443: bigger than or equal to 250, but smaller than 500\n",
      "966: bigger than or equal to 500\n",
      "969: bigger than or equal to 500\n"
     ]
    }
   ],
   "execution_count": 33
  },
  {
   "metadata": {
    "ExecuteTime": {
     "end_time": "2025-10-01T03:38:44.722078Z",
     "start_time": "2025-10-01T03:38:44.720062Z"
    }
   },
   "cell_type": "code",
   "source": [
    "# B1\n",
    "my_list = [2.72, 3.14, 55, 9, 110, 'To be or not to be', 11, 132, 88, 1.1]\n",
    "\n",
    "print(my_list[1])\n",
    "print(my_list[3])\n",
    "\n",
    "my_sub_list = my_list[1:6]"
   ],
   "id": "b0ebdae2bed5e6ea",
   "outputs": [
    {
     "name": "stdout",
     "output_type": "stream",
     "text": [
      "3.14\n",
      "9\n"
     ]
    }
   ],
   "execution_count": 34
  },
  {
   "metadata": {
    "ExecuteTime": {
     "end_time": "2025-10-01T03:38:44.724316Z",
     "start_time": "2025-10-01T03:38:44.722812Z"
    }
   },
   "cell_type": "code",
   "source": [
    "# B2\n",
    "my_list.remove('To be or not to be')"
   ],
   "id": "225ab1a4bbd7b68e",
   "outputs": [],
   "execution_count": 35
  },
  {
   "metadata": {
    "ExecuteTime": {
     "end_time": "2025-10-01T03:38:44.726820Z",
     "start_time": "2025-10-01T03:38:44.725035Z"
    }
   },
   "cell_type": "code",
   "source": [
    "# B3\n",
    "my_list.sort()"
   ],
   "id": "32f99191c37d95f6",
   "outputs": [],
   "execution_count": 36
  }
 ],
 "metadata": {
  "kernelspec": {
   "display_name": "Python 3",
   "language": "python",
   "name": "python3"
  },
  "language_info": {
   "codemirror_mode": {
    "name": "ipython",
    "version": 2
   },
   "file_extension": ".py",
   "mimetype": "text/x-python",
   "name": "python",
   "nbconvert_exporter": "python",
   "pygments_lexer": "ipython2",
   "version": "2.7.6"
  }
 },
 "nbformat": 4,
 "nbformat_minor": 5
}
