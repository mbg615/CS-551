{
 "cells": [
  {
   "cell_type": "code",
   "id": "initial_id",
   "metadata": {
    "collapsed": true,
    "ExecuteTime": {
     "end_time": "2025-09-20T01:40:20.713316Z",
     "start_time": "2025-09-20T01:40:20.553466Z"
    }
   },
   "source": [
    "# CS 451/551\n",
    "# Coding Practice Session 3\n",
    "# Last name: Guthrie\n",
    "# Email: mbguthrie1@crimson.ua.edu\n",
    "# Q1\n",
    "from sklearn.datasets import fetch_california_housing\n",
    "from matplotlib import pyplot as plt\n",
    "import numpy as np\n",
    "housing = fetch_california_housing()\n",
    "\n",
    "MedHouseVal = housing.target\n",
    "print(MedHouseVal)\n",
    "\n",
    "plt.hist(MedHouseVal, bins=50)\n",
    "plt.title(\"Original MedHouseVal Distribution\")\n",
    "plt.xlabel(\"MedHouseVal\")\n",
    "plt.ylabel(\"Frequency\")\n",
    "plt.show()\n",
    "\n",
    "MedHouseVal = np.log1p(MedHouseVal)\n",
    "\n",
    "plt.hist(MedHouseVal, bins=50)\n",
    "plt.title(\"Original MedHouseVal Distribution\")\n",
    "plt.xlabel(\"MedHouseVal\")\n",
    "plt.ylabel(\"Frequency\")\n",
    "plt.show()"
   ],
   "execution_count": 20,
   "outputs": []
  },
  {
   "metadata": {
    "ExecuteTime": {
     "end_time": "2025-09-20T01:40:20.725443Z",
     "start_time": "2025-09-20T01:40:20.714571Z"
    }
   },
   "cell_type": "code",
   "source": [
    "# Q2\n",
    "import seaborn as sns\n",
    "import pandas as pd\n",
    "\n",
    "df = sns.load_dataset('titanic')\n",
    "print(df.head())\n",
    "df = pd.get_dummies(df, columns=['embarked'])\n",
    "print(df.head())"
   ],
   "id": "4866f013852180bf",
   "execution_count": 21,
   "outputs": []
  },
  {
   "metadata": {
    "ExecuteTime": {
     "end_time": "2025-09-20T01:40:20.735603Z",
     "start_time": "2025-09-20T01:40:20.726232Z"
    }
   },
   "cell_type": "code",
   "source": [
    "# Q3\n",
    "from sklearn.datasets import load_iris\n",
    "from sklearn.impute import SimpleImputer\n",
    "\n",
    "iris = load_iris()\n",
    "iris_df = pd.DataFrame(iris.data, columns=iris.feature_names)\n",
    "\n",
    "rng = np.random.default_rng(2)\n",
    "missing_indices = rng.choice(iris_df.index, size=10, replace=False)\n",
    "iris_df.loc[missing_indices, 'sepal length (cm)'] = np.nan\n",
    "\n",
    "print(\"Rows with missing values:\\n\", iris_df.loc[missing_indices])\n",
    "\n",
    "imputer = SimpleImputer(strategy='median')\n",
    "iris_df['sepal length (cm)'] = imputer.fit_transform(iris_df[['sepal length (cm)']])\n",
    "\n",
    "print(\"Rows with imputed values:\\n\", iris_df.loc[missing_indices])"
   ],
   "id": "d27df8409978e35f",
   "execution_count": 22,
   "outputs": []
  },
  {
   "metadata": {
    "ExecuteTime": {
     "end_time": "2025-09-20T01:40:20.745172Z",
     "start_time": "2025-09-20T01:40:20.736975Z"
    }
   },
   "cell_type": "code",
   "source": [
    "# Q4\n",
    "from scipy.stats import zscore\n",
    "\n",
    "housing = fetch_california_housing()\n",
    "df = pd.DataFrame(housing.data, columns=housing.feature_names)\n",
    "\n",
    "print(\"Shape before outlier removal: \", df.shape)\n",
    "\n",
    "z_scores = zscore(df)\n",
    "abs_z_scores = np.abs(z_scores)\n",
    "\n",
    "filtered_rows = (abs_z_scores < 3).all(axis=1)\n",
    "\n",
    "df = df[filtered_rows]\n",
    "print(\"Shape after outlier removal: \", df.shape)"
   ],
   "id": "9d9a2de62af6841f",
   "execution_count": 23,
   "outputs": []
  },
  {
   "metadata": {
    "ExecuteTime": {
     "end_time": "2025-09-20T01:40:27.862811Z",
     "start_time": "2025-09-20T01:40:20.745962Z"
    }
   },
   "cell_type": "code",
   "source": [
    "# Q5\n",
    "from ucimlrepo import fetch_ucirepo\n",
    "from sklearn.preprocessing import StandardScaler\n",
    "from sklearn.preprocessing import MinMaxScaler\n",
    "# fetch dataset \n",
    "wine_quality = fetch_ucirepo(id=186) \n",
    "  \n",
    "# data (as pandas dataframes) \n",
    "x = wine_quality.data.features \n",
    "y = wine_quality.data.targets \n",
    "\n",
    "scaler = StandardScaler()\n",
    "\n",
    "x_standardized = scaler.fit_transform(x)\n",
    "df_standardized = pd.DataFrame(x_standardized, columns=x.columns)\n",
    "\n",
    "print(df_standardized.head())\n",
    "\n",
    "min_max_scaler = MinMaxScaler()\n",
    "\n",
    "x_normalized = min_max_scaler.fit_transform(x)\n",
    "df_normalized = pd.DataFrame(x_normalized, columns=x.columns)\n",
    "\n",
    "print(df_normalized.head())"
   ],
   "id": "584d2677b5f1f804",
   "execution_count": 24,
   "outputs": []
  },
  {
   "metadata": {
    "ExecuteTime": {
     "end_time": "2025-09-20T01:40:27.870358Z",
     "start_time": "2025-09-20T01:40:27.864001Z"
    }
   },
   "cell_type": "code",
   "source": [
    "# Q6\n",
    "df = pd.read_csv('diabetes.csv')\n",
    "df['Age_Bin'] = pd.cut(x=df['Age'], bins=3)\n",
    "print(df['Age_Bin'].value_counts())"
   ],
   "id": "1bf8234ed896197",
   "execution_count": 25,
   "outputs": []
  },
  {
   "metadata": {
    "ExecuteTime": {
     "end_time": "2025-09-20T01:40:27.972500Z",
     "start_time": "2025-09-20T01:40:27.871151Z"
    }
   },
   "cell_type": "code",
   "source": [
    "# Q7\n",
    "from sklearn.datasets import load_breast_cancer\n",
    "from sklearn.decomposition import PCA\n",
    "cancer = load_breast_cancer()\n",
    "\n",
    "x = cancer.data\n",
    "y = cancer.target\n",
    "target_names = cancer.target_names\n",
    "\n",
    "x_scaled = scaler.fit_transform(x)\n",
    "\n",
    "pca = PCA(n_components=2)\n",
    "principal_components = pca.fit_transform(x_scaled)\n",
    "\n",
    "pca_df = pd.DataFrame(data = principal_components, columns = ['Principal Component 1', 'Principal Component 2'])\n",
    "pca_df['target'] = y\n",
    "\n",
    "plt.scatter(pca_df['Principal Component 1'], pca_df['Principal Component 2'], c=pca_df['target'])\n",
    "plt.title('PCA of Breast Cancer Dataset (2 Components)')\n",
    "plt.xlabel('Principal Component 1')\n",
    "plt.ylabel('Principal Component 2')\n",
    "\n",
    "\n"
   ],
   "id": "73ff7961f8b452d",
   "execution_count": 26,
   "outputs": []
  },
  {
   "metadata": {
    "ExecuteTime": {
     "end_time": "2025-09-20T01:40:28.714529Z",
     "start_time": "2025-09-20T01:40:27.973315Z"
    }
   },
   "cell_type": "code",
   "source": [
    "# Q8\n",
    "from sklearn.feature_selection import RFE\n",
    "from sklearn.linear_model import LinearRegression\n",
    "\n",
    "wine_quality = fetch_ucirepo(id=186) \n",
    "  \n",
    "# data (as pandas dataframes) \n",
    "x = wine_quality.data.features \n",
    "y = wine_quality.data.targets \n",
    "\n",
    "y_flat = y.values.ravel()\n",
    "model = LinearRegression()\n",
    "\n",
    "rfe = RFE(estimator=model, n_features_to_select=5)\n",
    "rfe.fit(x, y_flat)\n",
    "\n",
    "selected_features = x.columns[rfe.support_]\n",
    "print(list(selected_features))"
   ],
   "id": "2abaa2adfd91601d",
   "execution_count": 27,
   "outputs": []
  },
  {
   "metadata": {
    "ExecuteTime": {
     "end_time": "2025-09-20T01:40:29.567341Z",
     "start_time": "2025-09-20T01:40:28.715836Z"
    }
   },
   "cell_type": "code",
   "source": [
    "# Q9\n",
    "air_quality = fetch_ucirepo(id=360) \n",
    "\n",
    "x = air_quality.data.features \n",
    "y = air_quality.data.targets \n",
    "\n",
    "x['Timestamp'] = pd.to_datetime(x['Date'] + ' ' + x['Time'])\n",
    "x['DayOfWeek'] = x['Timestamp'].dt.day_name()\n",
    "x['Hour'] = x['Timestamp'].dt.hour\n",
    "x['Month'] = x['Timestamp'].dt.month_name()\n",
    "\n",
    "print(x[['Date', 'Time', 'Timestamp', 'DayOfWeek', 'Hour', 'Month']].head())"
   ],
   "id": "7f805b7657257606",
   "execution_count": 28,
   "outputs": []
  },
  {
   "metadata": {
    "ExecuteTime": {
     "end_time": "2025-09-20T01:40:29.581476Z",
     "start_time": "2025-09-20T01:40:29.569716Z"
    }
   },
   "cell_type": "code",
   "source": [
    "# Q10\n",
    "from sklearn.model_selection import train_test_split\n",
    "from sklearn.linear_model import LinearRegression\n",
    "from sklearn.metrics import mean_squared_error, r2_score\n",
    "\n",
    "housing = fetch_california_housing()\n",
    "x = housing.data\n",
    "y = housing.target\n",
    "\n",
    "x_train, x_test, y_train, y_test = train_test_split(x, y, test_size=0.2, random_state=42)\n",
    "\n",
    "model = LinearRegression()\n",
    "model.fit(x_train, y_train)\n",
    "\n",
    "y_pred = model.predict(x_test)\n",
    "mse = mean_squared_error(y_test, y_pred)\n",
    "r2 = r2_score(y_test, y_pred)\n",
    "print('MSE:', mse)\n",
    "print('R2:', r2)\n"
   ],
   "id": "c9b75fb1f64093a0",
   "execution_count": 29,
   "outputs": []
  }
 ],
 "metadata": {
  "kernelspec": {
   "display_name": "Python 3",
   "language": "python",
   "name": "python3"
  },
  "language_info": {
   "codemirror_mode": {
    "name": "ipython",
    "version": 2
   },
   "file_extension": ".py",
   "mimetype": "text/x-python",
   "name": "python",
   "nbconvert_exporter": "python",
   "pygments_lexer": "ipython2",
   "version": "2.7.6"
  }
 },
 "nbformat": 4,
 "nbformat_minor": 5
}
